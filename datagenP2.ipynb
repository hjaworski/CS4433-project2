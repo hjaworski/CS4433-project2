{
 "cells": [
  {
   "cell_type": "code",
   "execution_count": 2,
   "metadata": {},
   "outputs": [],
   "source": [
    "# Create a large dataset of 5,000 points or larger that consists of 2-dimenional points, i.e., each point \n",
    "# has (x, y) values. x and y values range from 0 to 10,000. \n",
    "import numpy as np\n",
    "def create_dataset(n):\n",
    "    return np.random.randint(10000, size=(n, 2))\n",
    "\n",
    "data = create_dataset(5000)"
   ]
  },
  {
   "cell_type": "code",
   "execution_count": 3,
   "metadata": {},
   "outputs": [],
   "source": [
    "# Create another file that will contain K initial seed points with each of its values also in range from \n",
    "# 0 to 10,000. Make  “K” value as a parameter to your program,  such  that  your  program  will \n",
    "# generate these K seeds randomly\n",
    "def create_seeds(k):\n",
    "    return np.random.randint(10000, size=(k, 2))\n",
    "seeds = create_seeds(5)\n"
   ]
  },
  {
   "cell_type": "code",
   "execution_count": null,
   "metadata": {},
   "outputs": [],
   "source": [
    "# output data and seed to csv files\n",
    "np.savetxt(\"data.csv\", data, delimiter=\",\")\n",
    "np.savetxt(\"seeds.csv\", seeds, delimiter=\",\")\n"
   ]
  }
 ],
 "metadata": {
  "kernelspec": {
   "display_name": "Python 3",
   "language": "python",
   "name": "python3"
  },
  "language_info": {
   "codemirror_mode": {
    "name": "ipython",
    "version": 3
   },
   "file_extension": ".py",
   "mimetype": "text/x-python",
   "name": "python",
   "nbconvert_exporter": "python",
   "pygments_lexer": "ipython3",
   "version": "3.10.8 (v3.10.8:aaaf517424, Oct 11 2022, 10:14:40) [Clang 13.0.0 (clang-1300.0.29.30)]"
  },
  "orig_nbformat": 4,
  "vscode": {
   "interpreter": {
    "hash": "aee8b7b246df8f9039afb4144a1f6fd8d2ca17a180786b69acc140d282b71a49"
   }
  }
 },
 "nbformat": 4,
 "nbformat_minor": 2
}
